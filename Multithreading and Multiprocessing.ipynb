{
 "cells": [
  {
   "cell_type": "markdown",
   "id": "a2fa6119-e15e-400f-af62-eb1aed1bdad0",
   "metadata": {},
   "source": [
    "### Multithreading \n",
    "• The 'threading' module allows running multiple threads in parallel.  \n",
    "• Useful for I/O-bound tasks (e.g., downloading multiple files, making multiple API requests)."
   ]
  },
  {
   "cell_type": "code",
   "execution_count": 1,
   "id": "6c3f9d64-34bb-46a6-9894-bb9bea4286b7",
   "metadata": {},
   "outputs": [
    {
     "name": "stdout",
     "output_type": "stream",
     "text": [
      "Number: 0\n",
      "Number: 0\n",
      "Number: 1\n",
      "Number: 1\n",
      "Number: 2Number: 2\n",
      "\n",
      "Number: 3\n",
      "Number: 3\n",
      "Number: 4\n",
      "Number: 4\n",
      "Both threads finished execution.\n"
     ]
    }
   ],
   "source": [
    "import threading\n",
    "import time\n",
    "\n",
    "def print_numbers():\n",
    "    for i in range(5):\n",
    "        time.sleep(1)  # simulating a time-consuming I/O operation\n",
    "        print(f\"Number: {i}\")\n",
    "\n",
    "# creating two threads\n",
    "\n",
    "thread1 = threading.Thread(target = print_numbers)       # creates a new thread.\n",
    "thread2 = threading.Thread(target = print_numbers)\n",
    "\n",
    "# Starting both threads\n",
    "thread1.start()           # begins execution\n",
    "thread2.start()\n",
    "\n",
    "# waiting for threads to finish\n",
    "thread1.join()            # waits for thread completion\n",
    "thread2.join()\n",
    "\n",
    "print(\"Both threads finished execution.\")"
   ]
  },
  {
   "cell_type": "code",
   "execution_count": 2,
   "id": "bd74cba5-a9ed-4863-aeb4-9b93a7be5bea",
   "metadata": {},
   "outputs": [
    {
     "name": "stdout",
     "output_type": "stream",
     "text": [
      "Fetching https://www.example.com...Fetching https://www.python.org...\n",
      "\n",
      "Fetching https://www.github.com...\n",
      "Finished https://www.example.com - Status Code: 200\n",
      "Finished https://www.python.org - Status Code: 200\n",
      "Finished https://www.github.com - Status Code: 200\n",
      "Total execution time: 0.58 seconds\n"
     ]
    }
   ],
   "source": [
    "# Using Multiple Threads for I/O-bound Operations\n",
    "\n",
    "import threading\n",
    "import requests\n",
    "import time\n",
    "\n",
    "urls = [\n",
    "    \"https://www.example.com\",\n",
    "    \"https://www.python.org\",\n",
    "    \"https://www.github.com\"\n",
    "]\n",
    "\n",
    "def fetch_url(url):\n",
    "    print(f\"Fetching {url}...\")\n",
    "    response = requests.get(url)\n",
    "    print(f\"Finished {url} - Status Code: {response.status_code}\")\n",
    "\n",
    "# creating multiple threads for URL fetching\n",
    "threads = []\n",
    "start_time = time.time()\n",
    "\n",
    "for url in urls:\n",
    "    thread = threading.Thread(target= fetch_url, args=(url,))\n",
    "    threads.append(thread)\n",
    "    thread.start()\n",
    "\n",
    "for thread in threads:\n",
    "    thread.join()\n",
    "\n",
    "\n",
    "end_time = time.time()\n",
    "print(f\"Total execution time: {end_time - start_time:.2f} seconds\")"
   ]
  },
  {
   "cell_type": "markdown",
   "id": "1a7e3383-d773-4714-b8b8-8972e8cb4bfb",
   "metadata": {},
   "source": [
    "### Multiprocessing \n",
    "• The 'multiprocessing' module allows running tasks in parallel across multiple CPU cores.  \n",
    "• Best for CPU-bound tasks like image processing, machine learning, and computations."
   ]
  },
  {
   "cell_type": "code",
   "execution_count": 3,
   "id": "dcef198a-451b-4032-9c62-e5e1246d4f7b",
   "metadata": {},
   "outputs": [
    {
     "name": "stdout",
     "output_type": "stream",
     "text": [
      "Multiprocessing complete.\n"
     ]
    }
   ],
   "source": [
    "import multiprocessing\n",
    "import time\n",
    "\n",
    "def compute_square(n):\n",
    "    print(f\"Computing square of {n}\")\n",
    "    time.sleep(1)\n",
    "    print(f\"Square of {n}: {n * n}\")\n",
    "\n",
    "if __name__ == \"__main__\":\n",
    "    numbers = [1, 2, 3, 4, 5]\n",
    "    processes = []\n",
    "\n",
    "    for num in numbers:\n",
    "        process = multiprocessing.Process(target=compute_square, args=(num,))\n",
    "        processes.append(process)\n",
    "        process.start()\n",
    "\n",
    "    for process in processes:\n",
    "        process.join()\n",
    "\n",
    "    print(\"Multiprocessing complete.\")"
   ]
  },
  {
   "cell_type": "markdown",
   "id": "3bc504d8-a9ad-4a81-8577-d96cf4862918",
   "metadata": {},
   "source": [
    "#### Asynchronous Network Requests"
   ]
  },
  {
   "cell_type": "code",
   "execution_count": 5,
   "id": "1a106a4d-3a5f-4d38-82c0-3bbe6f7773e9",
   "metadata": {},
   "outputs": [
    {
     "name": "stdout",
     "output_type": "stream",
     "text": [
      "Finished https://www.example.com - Status Code: 200\n",
      "Finished https://www.python.org - Status Code: 200\n",
      "Finished https://www.github.com - Status Code: 500\n",
      "Total execution time: 0.78 seconds\n"
     ]
    }
   ],
   "source": [
    "import asyncio\n",
    "import aiohttp\n",
    "import time\n",
    "import nest_asyncio\n",
    "\n",
    "urls = [\n",
    "    \"https://www.example.com\",\n",
    "    \"https://www.python.org\",\n",
    "    \"https://www.github.com\"\n",
    "]\n",
    "\n",
    "\n",
    "async def fetch_url(session, url):\n",
    "    async with session.get(url) as response:\n",
    "        print(f\"Finished {url} - Status Code: {response.status}\")\n",
    "        return await response.text()\n",
    "\n",
    "async def main():\n",
    "    async with aiohttp.ClientSession() as session:\n",
    "        tasks = [fetch_url(session, url) for url in urls]\n",
    "        results = await asyncio.gather(*tasks)\n",
    "\n",
    "start_time = time.time()\n",
    "nest_asyncio.apply()  # Allows running nested asyncio loops\n",
    "asyncio.run(main())\n",
    "end_time = time.time()\n",
    "\n",
    "print(f\"Total execution time: {end_time - start_time:.2f} seconds\")"
   ]
  },
  {
   "cell_type": "code",
   "execution_count": null,
   "id": "eff1b2aa-b6c3-4db5-a7c1-1a673eca0abc",
   "metadata": {},
   "outputs": [],
   "source": []
  }
 ],
 "metadata": {
  "kernelspec": {
   "display_name": "Python 3 (ipykernel)",
   "language": "python",
   "name": "python3"
  },
  "language_info": {
   "codemirror_mode": {
    "name": "ipython",
    "version": 3
   },
   "file_extension": ".py",
   "mimetype": "text/x-python",
   "name": "python",
   "nbconvert_exporter": "python",
   "pygments_lexer": "ipython3",
   "version": "3.8.20"
  }
 },
 "nbformat": 4,
 "nbformat_minor": 5
}
