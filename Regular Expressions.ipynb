{
 "cells": [
  {
   "cell_type": "code",
   "execution_count": 1,
   "id": "b43fbb14-562e-4711-ba6b-19c39e1910a7",
   "metadata": {},
   "outputs": [],
   "source": [
    "import re"
   ]
  },
  {
   "cell_type": "code",
   "execution_count": 11,
   "id": "625c5759-2430-4164-be8e-c3707e9b9d20",
   "metadata": {},
   "outputs": [
    {
     "name": "stdout",
     "output_type": "stream",
     "text": [
      "Match found: Hello\n"
     ]
    }
   ],
   "source": [
    "# Matches Pattern at the Start\n",
    "\n",
    "pattern = r\"Hello\"\n",
    "string = \"Hello! World!\"\n",
    "\n",
    "match = re.match(pattern, string)\n",
    "if match:\n",
    "    print(f\"Match found: {match.group()}\")\n",
    "else:\n",
    "    print(\"No match found\")"
   ]
  },
  {
   "cell_type": "code",
   "execution_count": 12,
   "id": "51c2e1de-20ea-417a-96b4-224836f981a7",
   "metadata": {},
   "outputs": [
    {
     "name": "stdout",
     "output_type": "stream",
     "text": [
      "None\n"
     ]
    }
   ],
   "source": [
    "# no match pattern\n",
    "\n",
    "string = \"Say Hello!\"\n",
    "match = re.match(pattern, string)\n",
    "print(match) \n"
   ]
  },
  {
   "cell_type": "code",
   "execution_count": 13,
   "id": "30ebcfe1-3927-4b10-a7fd-b47ba1ba97a8",
   "metadata": {},
   "outputs": [
    {
     "name": "stdout",
     "output_type": "stream",
     "text": [
      "Found 'Python' at at position 7-13\n"
     ]
    }
   ],
   "source": [
    "# finds pattern anywhere\n",
    "\n",
    "pattern = r\"Python\"\n",
    "string = \"I love Python programming.\"\n",
    "\n",
    "match = re.search(pattern, string)\n",
    "if match:\n",
    "    print(f\"Found '{match.group()}' at at position {match.start()}-{match.end()}\")\n",
    "else:\n",
    "    print(\"Pattern not found\")"
   ]
  },
  {
   "cell_type": "code",
   "execution_count": 22,
   "id": "0565f19d-b430-4f2d-abbf-4ef3d71c3451",
   "metadata": {},
   "outputs": [
    {
     "name": "stdout",
     "output_type": "stream",
     "text": [
      "['20', '15']\n",
      "['The price of apples is ', ' dollars, and bananas are ', ' dollars.']\n"
     ]
    }
   ],
   "source": [
    "# return all matches\n",
    "\n",
    "text = \"The price of apples is 20 dollars, and bananas are 15 dollars.\"\n",
    "numbers = re.findall(r\"\\d+\", text)     # matches any digit (0 - 9)\n",
    "numbers2 = re.findall(r\"\\D+\", text)     # matches any non - digit \n",
    "\n",
    "print(numbers)\n",
    "print(numbers2)"
   ]
  },
  {
   "cell_type": "code",
   "execution_count": 26,
   "id": "b62efb37-70ba-4d93-93b7-35f76619f502",
   "metadata": {},
   "outputs": [
    {
     "name": "stdout",
     "output_type": "stream",
     "text": [
      "Contact me at ***-***-****\n"
     ]
    }
   ],
   "source": [
    "# replacing patterns\n",
    "\n",
    "text = \"Contact me at 123-456-7890\"\n",
    "masked = re.sub(r\"\\d{3}-\\d{3}-\\d{4}\", \"***-***-****\", text)\n",
    "\n",
    "print(masked)"
   ]
  },
  {
   "cell_type": "code",
   "execution_count": 20,
   "id": "d00c3001-75ca-48f9-8b61-f25d7ba9dc67",
   "metadata": {},
   "outputs": [
    {
     "name": "stdout",
     "output_type": "stream",
     "text": [
      "['Python', 'Java', 'C++', 'JavaScript']\n",
      "['Python, Java, C++, JavaScript']\n"
     ]
    }
   ],
   "source": [
    "# splitting strings \n",
    "\n",
    "text = \"Python, Java, C++, JavaScript\"\n",
    "split_result = re.split(r\",\\s+\", text)\n",
    "split_result2 = re.split(r\",\\S+\", text)\n",
    "\n",
    "print(split_result)     # matches any whitespace character\n",
    "print(split_result2)    # matches any non - whitespace character -> doesn't split the string"
   ]
  },
  {
   "cell_type": "markdown",
   "id": "24f6f44a-2104-4234-b5de-60541db7ead6",
   "metadata": {},
   "source": [
    "### Practical Applications"
   ]
  },
  {
   "cell_type": "code",
   "execution_count": 27,
   "id": "73befa32-3a44-477f-a568-a9929f77b18f",
   "metadata": {},
   "outputs": [
    {
     "name": "stdout",
     "output_type": "stream",
     "text": [
      "test@example.com: Valid\n",
      "invalid-email@: Invalid\n",
      "user@domain.org: Valid\n"
     ]
    }
   ],
   "source": [
    "# Validating Email Address\n",
    "\n",
    "def validate_email(email):\n",
    "    pattern = r\"^[a-zA-Z0-9_.+-]+@[a-zA-Z0-9-]+\\.[a-zA-Z0-9-.]+$\"\n",
    "    return re.match(pattern, email) is not None\n",
    "\n",
    "emails = [\"test@example.com\", \"invalid-email@\", \"user@domain.org\"]\n",
    "for email in emails:\n",
    "    print(f\"{email}: {'Valid' if validate_email(email) else 'Invalid'}\")"
   ]
  },
  {
   "cell_type": "code",
   "execution_count": 28,
   "id": "bd02e494-8951-429f-84a0-768ab40cbb28",
   "metadata": {},
   "outputs": [
    {
     "name": "stdout",
     "output_type": "stream",
     "text": [
      "['https://xyz.com', 'http://testbuddy.org', 'https://secureabc.example.com/login.']\n"
     ]
    }
   ],
   "source": [
    "# Extracting links from a web page\n",
    "\n",
    "text = \"\"\"\n",
    "Visit our website at https://xyz.com or http://testbuddy.org for more details.\n",
    "Our secure page is at https://secureabc.example.com/login.\n",
    "\"\"\"\n",
    "\n",
    "urls = re.findall(r\"https?://[a-zA-Z0-9.-]+(?:/[a-zA-Z0-9./?=&]*)?\", text)\n",
    "\n",
    "print(urls)"
   ]
  },
  {
   "cell_type": "code",
   "execution_count": 29,
   "id": "192d9a3f-c755-4329-b35d-4e95b98229ee",
   "metadata": {},
   "outputs": [
    {
     "name": "stdout",
     "output_type": "stream",
     "text": [
      "Pass123!: Strong\n",
      "weakpass: Weak\n",
      "Strong@2024: Strong\n"
     ]
    }
   ],
   "source": [
    "# password strength checker\n",
    "\n",
    "def check_password(password):\n",
    "    pattern = r\"^(?=.*[A-Z])(?=.*\\d)(?=.*[@$!%*?&])[A-Za-z\\d@$!%*?&]{8,}$\"\n",
    "    return bool(re.match(pattern, password))\n",
    "\n",
    "passwords = [\"Pass123!\", \"weakpass\", \"Strong@2024\"]\n",
    "for pwd in passwords:\n",
    "    print(f\"{pwd}: {'Strong' if check_password(pwd) else 'Weak'}\")"
   ]
  },
  {
   "cell_type": "code",
   "execution_count": null,
   "id": "7d8d566b-b54c-4458-a0e6-b6db42b2d4f6",
   "metadata": {},
   "outputs": [],
   "source": []
  }
 ],
 "metadata": {
  "kernelspec": {
   "display_name": "Python 3 (ipykernel)",
   "language": "python",
   "name": "python3"
  },
  "language_info": {
   "codemirror_mode": {
    "name": "ipython",
    "version": 3
   },
   "file_extension": ".py",
   "mimetype": "text/x-python",
   "name": "python",
   "nbconvert_exporter": "python",
   "pygments_lexer": "ipython3",
   "version": "3.8.20"
  }
 },
 "nbformat": 4,
 "nbformat_minor": 5
}
