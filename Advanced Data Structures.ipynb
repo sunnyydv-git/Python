{
 "cells": [
  {
   "cell_type": "markdown",
   "id": "50b28d91-997e-443a-be36-1a4e8d413fbf",
   "metadata": {},
   "source": [
    "#### List \n",
    "• ordered  \n",
    "• mutable  \n",
    "• allow duplicates"
   ]
  },
  {
   "cell_type": "code",
   "execution_count": 1,
   "id": "9131384b-a3f8-4e01-8c6d-70933f36e37a",
   "metadata": {},
   "outputs": [
    {
     "name": "stdout",
     "output_type": "stream",
     "text": [
      "[1, 2, 3, 4]\n"
     ]
    }
   ],
   "source": [
    "\n",
    "lst = [1, 2, 3]\n",
    "lst.append(4)\n",
    "print(lst)  \n"
   ]
  },
  {
   "cell_type": "code",
   "execution_count": 2,
   "id": "bba626ce-80e4-47bf-8f55-cef8abc689da",
   "metadata": {},
   "outputs": [
    {
     "name": "stdout",
     "output_type": "stream",
     "text": [
      "[1, 2, 3, 4, 5]\n"
     ]
    }
   ],
   "source": [
    "lst = [1, 2, 3]\n",
    "lst.extend([4, 5])\n",
    "print(lst)  \n"
   ]
  },
  {
   "cell_type": "code",
   "execution_count": 4,
   "id": "131a4484-f7d9-43bd-9f33-b31dacb6543c",
   "metadata": {},
   "outputs": [
    {
     "name": "stdout",
     "output_type": "stream",
     "text": [
      "[1, 2]\n",
      "3\n"
     ]
    }
   ],
   "source": [
    "lst = [1, 2, 3]\n",
    "removed_item = lst.pop()\n",
    "print(lst)          \n",
    "print(removed_item) \n"
   ]
  },
  {
   "cell_type": "code",
   "execution_count": 5,
   "id": "badd4aa8-c0d2-4923-8196-191fe45222df",
   "metadata": {},
   "outputs": [
    {
     "name": "stdout",
     "output_type": "stream",
     "text": [
      "[1, 3, 2]\n"
     ]
    }
   ],
   "source": [
    "lst = [1, 2, 3, 2]\n",
    "lst.remove(2)\n",
    "print(lst) "
   ]
  },
  {
   "cell_type": "markdown",
   "id": "3030e279-2c39-4975-a553-d1412ddbd7f5",
   "metadata": {},
   "source": [
    "#### Tuples\n",
    "• ordered  \n",
    "• immutable  \n",
    "• allow duplicates"
   ]
  },
  {
   "cell_type": "code",
   "execution_count": 8,
   "id": "3203ff11-b878-4112-ada1-6c2c9923d7e7",
   "metadata": {},
   "outputs": [
    {
     "name": "stdout",
     "output_type": "stream",
     "text": [
      "2\n"
     ]
    }
   ],
   "source": [
    "t = (1, 2, 3, 2)\n",
    "print(t.count(2))  "
   ]
  },
  {
   "cell_type": "code",
   "execution_count": 11,
   "id": "c8a48648-f258-4a2f-8f20-8f9de8f7fa84",
   "metadata": {},
   "outputs": [
    {
     "name": "stdout",
     "output_type": "stream",
     "text": [
      "1\n"
     ]
    }
   ],
   "source": [
    "t = (1, 2, 3, 2)\n",
    "print(t.index(2)) "
   ]
  },
  {
   "cell_type": "markdown",
   "id": "fe48d142-f9c2-44fb-abb1-33215cbdf0af",
   "metadata": {},
   "source": [
    "#### Sets\n",
    "• Unordered  \n",
    "• mutable  \n",
    "• No duplicates allowed"
   ]
  },
  {
   "cell_type": "code",
   "execution_count": 13,
   "id": "5e9436f3-0d5a-4a3e-adda-045fa90f0f83",
   "metadata": {},
   "outputs": [
    {
     "name": "stdout",
     "output_type": "stream",
     "text": [
      "{1, 2, 3, 4}\n"
     ]
    }
   ],
   "source": [
    "s = {1, 2, 3}\n",
    "s.add(4)\n",
    "print(s)"
   ]
  },
  {
   "cell_type": "code",
   "execution_count": 14,
   "id": "107ac710-151b-43b1-8290-b8e896e5cafa",
   "metadata": {},
   "outputs": [
    {
     "name": "stdout",
     "output_type": "stream",
     "text": [
      "{1, 2, 3, 4}\n"
     ]
    }
   ],
   "source": [
    "s = {1, 2}\n",
    "s.update([3, 4])\n",
    "print(s)  \n"
   ]
  },
  {
   "cell_type": "code",
   "execution_count": 15,
   "id": "0c83bb53-431a-4fcf-8e79-8efd1cf35da1",
   "metadata": {},
   "outputs": [
    {
     "name": "stdout",
     "output_type": "stream",
     "text": [
      "{2, 3}\n"
     ]
    }
   ],
   "source": [
    "s1 = {1, 2, 3}\n",
    "s2 = {2, 3, 4}\n",
    "print(s1.intersection(s2))"
   ]
  },
  {
   "cell_type": "code",
   "execution_count": 16,
   "id": "5d290ca6-925d-4c82-9b35-c8cf5893a34f",
   "metadata": {},
   "outputs": [
    {
     "name": "stdout",
     "output_type": "stream",
     "text": [
      "{1}\n"
     ]
    }
   ],
   "source": [
    "s1 = {1, 2, 3}\n",
    "s2 = {2, 3, 4}\n",
    "print(s1.difference(s2))"
   ]
  },
  {
   "cell_type": "markdown",
   "id": "c4feb3c7-afaf-4fae-b86a-7b36d10133ce",
   "metadata": {},
   "source": [
    "#### Dictionary \n",
    "• Key -> immutable  \n",
    "• Value -> mutable  \n",
    "• Ordered"
   ]
  },
  {
   "cell_type": "code",
   "execution_count": 26,
   "id": "dab89c38-59b7-4929-b231-dd2f2052764a",
   "metadata": {},
   "outputs": [
    {
     "name": "stdout",
     "output_type": "stream",
     "text": [
      "dict_keys(['a', 'b'])\n",
      "dict_values([1, 2])\n",
      "dict_items([('a', 1), ('b', 2)])\n",
      "1\n",
      "0\n"
     ]
    }
   ],
   "source": [
    "d = {'a': 1, 'b': 2}\n",
    "print(d.keys()) \n",
    "print(d.values())\n",
    "print(d.items())\n",
    "print(d.get('a'))\n",
    "print(d.get('z', 0))  # Returns the value of a key; if the key is not found, returns the specified default value."
   ]
  },
  {
   "cell_type": "code",
   "execution_count": 25,
   "id": "832afda2-fcbf-4616-b19c-c7f06657732b",
   "metadata": {},
   "outputs": [
    {
     "name": "stdout",
     "output_type": "stream",
     "text": [
      "1\n",
      "{'b': 2}\n"
     ]
    }
   ],
   "source": [
    "d = {'a': 1, 'b': 2}\n",
    "print(d.pop('a'))  \n",
    "print(d) "
   ]
  },
  {
   "cell_type": "markdown",
   "id": "d88e039e-960b-4533-92bc-2480d3ba0dc9",
   "metadata": {},
   "source": [
    "#### Comprehensions\n",
    "Comprehensions are concise, Pythonic ways to create new collections (like lists, sets, and dictionaries) based on existing iterables. They are more readable and often faster than using traditional loops."
   ]
  },
  {
   "cell_type": "markdown",
   "id": "a412d6c5-f3d1-4650-a9c5-c0151e1976d4",
   "metadata": {},
   "source": [
    "##### List Comprehensions"
   ]
  },
  {
   "cell_type": "code",
   "execution_count": 27,
   "id": "f3e81168-2c84-49b1-87da-b625145bbf8c",
   "metadata": {},
   "outputs": [
    {
     "name": "stdout",
     "output_type": "stream",
     "text": [
      "[1, 4, 9, 16, 25]\n"
     ]
    }
   ],
   "source": [
    "# Create a list of squares for numbers from 1 to 5.\n",
    "squares = [x ** 2 for x in range(1,6)]\n",
    "print(squares)"
   ]
  },
  {
   "cell_type": "markdown",
   "id": "b525743f-d977-4bb8-b86f-313fd5939754",
   "metadata": {},
   "source": [
    "##### Set Comprehensions"
   ]
  },
  {
   "cell_type": "code",
   "execution_count": 28,
   "id": "bd3c4293-b568-4b53-9b50-a9e595149f29",
   "metadata": {},
   "outputs": [
    {
     "name": "stdout",
     "output_type": "stream",
     "text": [
      "{0, 2, 4, 6, 8}\n"
     ]
    }
   ],
   "source": [
    "# Create a set of unique even numbers\n",
    "evens = {x for x in range(10) if x % 2 == 0}\n",
    "print(evens)"
   ]
  },
  {
   "cell_type": "markdown",
   "id": "84a18d56-ef73-4557-8350-67bf9aa51d77",
   "metadata": {},
   "source": [
    "##### Dictionary Comprehensions"
   ]
  },
  {
   "cell_type": "code",
   "execution_count": 29,
   "id": "b2ad61f8-c31c-4605-a450-836625272dc9",
   "metadata": {},
   "outputs": [
    {
     "name": "stdout",
     "output_type": "stream",
     "text": [
      "{1: 1, 2: 8, 3: 27, 4: 64}\n"
     ]
    }
   ],
   "source": [
    "# Create a dictionary of numbers and their cubes.\n",
    "cubes = {x: x**3 for x in range(1,5)}\n",
    "print(cubes)"
   ]
  },
  {
   "cell_type": "markdown",
   "id": "7b3527a4-d70d-4274-94d9-4f28f2c525fe",
   "metadata": {},
   "source": [
    "##### Nested Comprehensions\n",
    "Using Nested Comprehensions for more complex structures."
   ]
  },
  {
   "cell_type": "code",
   "execution_count": 30,
   "id": "67f5f2cf-3de5-419b-b7b7-b6de5ce3dd93",
   "metadata": {},
   "outputs": [
    {
     "name": "stdout",
     "output_type": "stream",
     "text": [
      "[[1, 2, 3, 4, 5], [2, 4, 6, 8, 10], [3, 6, 9, 12, 15], [4, 8, 12, 16, 20], [5, 10, 15, 20, 25]]\n"
     ]
    }
   ],
   "source": [
    "# Create a list for a multiplication table.\n",
    "table = [[x * y for y in range(1,6)] for x in range(1,6)]\n",
    "print(table)"
   ]
  },
  {
   "cell_type": "markdown",
   "id": "b55f9993-0c3d-44b6-a126-98d4d5f57046",
   "metadata": {},
   "source": [
    "#### Generators\n",
    "Generators are a memory-efficient way to generate a sequence of items.\n",
    "Instead of storing all items in memory, a generator produces items on demand."
   ]
  },
  {
   "cell_type": "code",
   "execution_count": 35,
   "id": "b1176a56-81c6-4105-8295-81297a3cbb43",
   "metadata": {},
   "outputs": [
    {
     "name": "stdout",
     "output_type": "stream",
     "text": [
      "1\n",
      "2\n"
     ]
    }
   ],
   "source": [
    "# Creating a generator\n",
    "def count_up_to(n):\n",
    "    count = 1\n",
    "    while count <= n:\n",
    "        yield count\n",
    "        count += 1\n",
    "\n",
    "gen = count_up_to(5)\n",
    "print(next(gen))\n",
    "print(next(gen))"
   ]
  },
  {
   "cell_type": "code",
   "execution_count": 37,
   "id": "92ee69de-c51d-4486-8d86-b183cbc4f776",
   "metadata": {},
   "outputs": [
    {
     "name": "stdout",
     "output_type": "stream",
     "text": [
      "0\n",
      "1\n",
      "4\n",
      "9\n"
     ]
    }
   ],
   "source": [
    "gen = (x**2 for x in range(5))\n",
    "print(next(gen))  \n",
    "print(next(gen))\n",
    "print(next(gen))\n",
    "print(next(gen))"
   ]
  },
  {
   "cell_type": "markdown",
   "id": "4c8b77b3-4844-490b-b0b6-2a3359e15a66",
   "metadata": {},
   "source": [
    "#### Advantages of Generators\n",
    "• Memory Efficiency: Generators do not store all values in memory, making them ideal for large datasets.   \n",
    "• Infinite Sequences: You can create infinite sequences without worrying about memory limits."
   ]
  },
  {
   "cell_type": "code",
   "execution_count": 43,
   "id": "75339200-1e53-4dee-a3c5-315e4ed03adf",
   "metadata": {},
   "outputs": [
    {
     "name": "stdout",
     "output_type": "stream",
     "text": [
      "1\n",
      "2\n",
      "3\n",
      "4\n"
     ]
    }
   ],
   "source": [
    "def infinite_numbers():\n",
    "    num = 1\n",
    "    while True:\n",
    "        yield num\n",
    "        num += 1\n",
    "\n",
    "gen = infinite_numbers()\n",
    "print(next(gen))\n",
    "print(next(gen))\n",
    "print(next(gen))\n",
    "print(next(gen))"
   ]
  },
  {
   "cell_type": "markdown",
   "id": "a4aa605f-095b-4c33-8389-4e0832d14ee0",
   "metadata": {},
   "source": [
    "### Optimization\n",
    "#### Optimizing Generators for Better Performance\n",
    "Generators are inherently optimized for memory efficiency because they compute values on demand, but there are some strategies to further enhance their performance depending on the use case."
   ]
  },
  {
   "cell_type": "markdown",
   "id": "7ed77873-4f25-4b00-bf91-9c6abfdcebcb",
   "metadata": {},
   "source": [
    "##### 1. Avoid Redundant Calculations\n",
    "If generator performs heavy computations, avoid recalculating values unnecessarily. Use variables to store intermediate results."
   ]
  },
  {
   "cell_type": "code",
   "execution_count": 49,
   "id": "1b69c22a-85ee-4110-8bfe-3c8aa27608d5",
   "metadata": {},
   "outputs": [],
   "source": [
    "# Without opimization\n",
    "def inefficient_generator(n):\n",
    "    for x in range(n):\n",
    "        yield sum(range(x))  # Recalculates sum(range(x)) every time\n",
    "\n"
   ]
  },
  {
   "cell_type": "code",
   "execution_count": 50,
   "id": "71274207-abb4-4e92-813a-85952d18ad37",
   "metadata": {},
   "outputs": [],
   "source": [
    "# Optimized\n",
    "def optimized_generator(n):\n",
    "    current_sum = 0\n",
    "    for x in range(n):\n",
    "        current_sum += x  # Incrementally calculate the sum\n",
    "        yield current_sum"
   ]
  },
  {
   "cell_type": "markdown",
   "id": "b59c97aa-9b80-4797-8119-a67fe8575d6b",
   "metadata": {},
   "source": [
    "##### 2. Use Generators instead of Lists\n",
    "If working with very large datasets, avoid using lists entirely.  \n",
    "Always prefer generator expressions over list comprehensions when we don’t need to store all the values in memory."
   ]
  },
  {
   "cell_type": "code",
   "execution_count": 54,
   "id": "8973de85-a5b9-4ca0-bee9-454ea082eae8",
   "metadata": {},
   "outputs": [
    {
     "name": "stdout",
     "output_type": "stream",
     "text": [
      "[0, 1, 4, 9, 16, 25, 36, 49, 64, 81, 100, 121, 144, 169, 196, 225, 256, 289, 324, 361, 400, 441, 484, 529, 576, 625, 676, 729, 784, 841, 900, 961, 1024, 1089, 1156, 1225, 1296, 1369, 1444, 1521, 1600, 1681, 1764, 1849, 1936, 2025, 2116, 2209, 2304, 2401, 2500, 2601, 2704, 2809, 2916, 3025, 3136, 3249, 3364, 3481, 3600, 3721, 3844, 3969]\n"
     ]
    }
   ],
   "source": [
    "# using a list (memory inefficient)\n",
    "squares = [x**2 for x in range(2**6)]  # Consumes a lot of memory\n",
    "print(squares)"
   ]
  },
  {
   "cell_type": "code",
   "execution_count": 57,
   "id": "c9b641d8-6bbf-456d-8ef2-b50c78caa8ab",
   "metadata": {},
   "outputs": [
    {
     "name": "stdout",
     "output_type": "stream",
     "text": [
      "<generator object <genexpr> at 0x00000170873B1DD0>\n"
     ]
    }
   ],
   "source": [
    "# Using a generator (memory efficient)\n",
    "squares = (x**2 for x in range(10**6))  # Computes on demand\n",
    "print(squares)"
   ]
  },
  {
   "cell_type": "markdown",
   "id": "ca64a442-42fc-4eeb-9b6e-fb9fdb3ba7ed",
   "metadata": {},
   "source": [
    "##### 3. Avoid Overhead in Infinite Generators\n",
    "For infinite generators, try to keep the operations inside the loop as lightweight as possible. Avoid complex logic or deep nesting."
   ]
  },
  {
   "cell_type": "markdown",
   "id": "6347780a-056f-4eb8-9615-66338c1633e7",
   "metadata": {},
   "source": [
    "##### 3. Avoid Overhead in Infinite Generators\n",
    "For infinite generators, try to keep the operations inside the loop as lightweight as possible. Avoid complex logic or deep nesting."
   ]
  },
  {
   "cell_type": "code",
   "execution_count": 58,
   "id": "28c4de7d-adf9-4cfd-880d-a82950b8c71c",
   "metadata": {},
   "outputs": [],
   "source": [
    "def infinite_numbers():\n",
    "    num = 1\n",
    "    while True:\n",
    "        yield num  # Only yield the value\n",
    "        num += 1  # Lightweight increment\n"
   ]
  },
  {
   "cell_type": "markdown",
   "id": "d77cce4b-b0c2-4d24-a448-b7998ab5b75d",
   "metadata": {},
   "source": [
    "##### 4. Use Built-in Functions and Libraries\n",
    "Use python built-in library like 'itertools'.  \n",
    "They are highly optimized and can handle large sequences efficiently."
   ]
  },
  {
   "cell_type": "code",
   "execution_count": 66,
   "id": "c310f78d-4b79-4533-8fa9-129c6f77dcc5",
   "metadata": {},
   "outputs": [
    {
     "name": "stdout",
     "output_type": "stream",
     "text": [
      "2\n",
      "3\n",
      "4\n"
     ]
    }
   ],
   "source": [
    "from itertools import count\n",
    "gen = count(2)  \n",
    "print(next(gen))\n",
    "print(next(gen))\n",
    "print(next(gen))"
   ]
  },
  {
   "cell_type": "code",
   "execution_count": 67,
   "id": "d41423ea-60dc-4bdd-999f-1f59ccc46bec",
   "metadata": {},
   "outputs": [
    {
     "name": "stdout",
     "output_type": "stream",
     "text": [
      "[1, 2, 3, 4, 5, 6, 7, 8, 9, 10]\n"
     ]
    }
   ],
   "source": [
    "from itertools import islice, count\n",
    "\n",
    "gen = count(1)\n",
    "limited_gen = islice(gen, 10)  # Only take the first 10 numbers\n",
    "print(list(limited_gen))  # Output: [1, 2, 3, ..., 10]\n"
   ]
  },
  {
   "cell_type": "code",
   "execution_count": 69,
   "id": "61d92f8d-9d16-4b27-a1b5-57b435d26314",
   "metadata": {},
   "outputs": [
    {
     "name": "stdout",
     "output_type": "stream",
     "text": [
      "Simple: 0.6171243999997387\n",
      "Optimized: 0.21025600000029954\n"
     ]
    }
   ],
   "source": [
    "# To identify bottlenecks in generator and optimize them.\n",
    "\n",
    "from timeit import timeit\n",
    "\n",
    "def simple_generator():\n",
    "    for x in range(10**6):\n",
    "        yield x**2\n",
    "\n",
    "def optimized_generator():\n",
    "    for x in range(10**6):\n",
    "        yield x * x  # Multiplication is faster than exponentiation\n",
    "\n",
    "print(\"Simple:\", timeit(\"list(simple_generator())\", globals=globals(), number=1))\n",
    "print(\"Optimized:\", timeit(\"list(optimized_generator())\", globals=globals(), number=1))\n"
   ]
  },
  {
   "cell_type": "code",
   "execution_count": null,
   "id": "2f5d70a6-ad6c-42fb-9b2f-ca8139da089d",
   "metadata": {},
   "outputs": [],
   "source": []
  }
 ],
 "metadata": {
  "kernelspec": {
   "display_name": "Python 3 (ipykernel)",
   "language": "python",
   "name": "python3"
  },
  "language_info": {
   "codemirror_mode": {
    "name": "ipython",
    "version": 3
   },
   "file_extension": ".py",
   "mimetype": "text/x-python",
   "name": "python",
   "nbconvert_exporter": "python",
   "pygments_lexer": "ipython3",
   "version": "3.8.20"
  }
 },
 "nbformat": 4,
 "nbformat_minor": 5
}
