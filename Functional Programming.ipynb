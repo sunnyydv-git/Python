{
 "cells": [
  {
   "cell_type": "markdown",
   "id": "a2f105be-d8a9-45fd-9dda-9c5101293c56",
   "metadata": {},
   "source": [
    "### Functional Programming\n",
    "• It is a programming paradigm that treats computation as the evaluation of mathematical functions and avoids changing state or mutable data."
   ]
  },
  {
   "cell_type": "markdown",
   "id": "45983556-d51d-4d66-ae60-52ee0fcf03d8",
   "metadata": {},
   "source": [
    "#### Lambda Function\n",
    "-> Lambda functions are small, anonymous function  \n",
    "-> Can take any number of arguments but has only one expression."
   ]
  },
  {
   "cell_type": "code",
   "execution_count": 1,
   "id": "28b2cd22-0bd2-414e-ad9c-472554931c3c",
   "metadata": {},
   "outputs": [
    {
     "name": "stdout",
     "output_type": "stream",
     "text": [
      "25\n",
      "25\n"
     ]
    }
   ],
   "source": [
    "# regular function\n",
    "def square(x):\n",
    "    return x * x\n",
    "\n",
    "square_lambda = lambda x : x * x\n",
    "\n",
    "print(square(5))\n",
    "print(square_lambda(5))"
   ]
  },
  {
   "cell_type": "code",
   "execution_count": 2,
   "id": "36562235-c651-4bde-8505-92fadedb669a",
   "metadata": {},
   "outputs": [
    {
     "name": "stdout",
     "output_type": "stream",
     "text": [
      "7\n"
     ]
    }
   ],
   "source": [
    "# lambda with multiple arguments\n",
    "\n",
    "add = lambda x, y : x + y\n",
    "print(add(3,4))"
   ]
  },
  {
   "cell_type": "code",
   "execution_count": 5,
   "id": "564587ae-aed8-42e8-90df-74b049bc4ea3",
   "metadata": {},
   "outputs": [
    {
     "name": "stdout",
     "output_type": "stream",
     "text": [
      "[('Abc', 25), ('Mno', 22), ('Xyz', 20)]\n",
      "[('Xyz', 20), ('Mno', 22), ('Abc', 25)]\n"
     ]
    }
   ],
   "source": [
    "# Using lambda in Sorting\n",
    "\n",
    "list_ = [(\"Abc\", 25), (\"Xyz\", 20), (\"Mno\", 22)]\n",
    "# Sort by age\n",
    "list_sorted = sorted(list_, key = lambda list_:list_[0])\n",
    "list_sorted2 = sorted(list_, key = lambda list_:list_[1])\n",
    "print(list_sorted)\n",
    "print(list_sorted2)"
   ]
  },
  {
   "cell_type": "markdown",
   "id": "4eb277e2-7787-4684-8ecd-3a054a85e463",
   "metadata": {},
   "source": [
    "#### Higher Order Functions\n",
    "-> A higher-order function is a function that takes another function as an argument or returns a function."
   ]
  },
  {
   "cell_type": "code",
   "execution_count": 6,
   "id": "e71f3a75-f37c-4ff7-b483-a8585ddff7b9",
   "metadata": {},
   "outputs": [
    {
     "name": "stdout",
     "output_type": "stream",
     "text": [
      "16\n"
     ]
    }
   ],
   "source": [
    "def func1(func, value):\n",
    "    return func(value)\n",
    "\n",
    "result = func1(lambda x : x ** 2, 4)\n",
    "print(result)"
   ]
  },
  {
   "cell_type": "markdown",
   "id": "2d38705d-0598-425e-8173-aca97d3bbec4",
   "metadata": {},
   "source": [
    "#### map() Functions\n",
    "-> The map() function applies a function to all elements in an iterable and returns an iterator."
   ]
  },
  {
   "cell_type": "code",
   "execution_count": 7,
   "id": "64900d93-f180-4762-b3b1-d7fd1bf6f607",
   "metadata": {},
   "outputs": [
    {
     "name": "stdout",
     "output_type": "stream",
     "text": [
      "[1, 4, 9, 16, 25]\n"
     ]
    }
   ],
   "source": [
    "# squaring a list\n",
    "\n",
    "numbers = [1,2,3,4,5]\n",
    "squared = list(map(lambda x : x ** 2, numbers))     # --> map(function, iterable)\n",
    "print(squared)"
   ]
  },
  {
   "cell_type": "code",
   "execution_count": 8,
   "id": "f82e931f-9051-495d-bdc8-39ad27852a98",
   "metadata": {},
   "outputs": [
    {
     "name": "stdout",
     "output_type": "stream",
     "text": [
      "[32.0, 50.0, 68.0, 86.0, 104.0]\n"
     ]
    }
   ],
   "source": [
    "# converting temperature from celsius to fahrenheit\n",
    "\n",
    "celsius = [0, 10, 20, 30, 40]\n",
    "fahrenheit = list(map(lambda x: (x * 9/5) + 32, celsius))\n",
    "print(fahrenheit)"
   ]
  },
  {
   "cell_type": "markdown",
   "id": "523772c2-e109-40d4-a5e1-ef4f90eaa90a",
   "metadata": {},
   "source": [
    "#### filter() Functions\n",
    "-> The filter() function is used to filter elements of an iterable based on a condition."
   ]
  },
  {
   "cell_type": "code",
   "execution_count": 9,
   "id": "1e3f6f9d-d152-4d81-b9db-69f0b425dd5c",
   "metadata": {},
   "outputs": [
    {
     "name": "stdout",
     "output_type": "stream",
     "text": [
      "[2, 4, 6, 8, 10]\n"
     ]
    }
   ],
   "source": [
    "# filtering even numbers\n",
    "\n",
    "numbers = [1,2,3,4,5,6,7,8,9,10]\n",
    "evens = list(filter(lambda x: x % 2 == 0, numbers))      # --> filter(function, iterable)\n",
    "print(evens)"
   ]
  },
  {
   "cell_type": "code",
   "execution_count": 10,
   "id": "f9b234bc-0086-4121-82a9-8c523482abde",
   "metadata": {},
   "outputs": [
    {
     "name": "stdout",
     "output_type": "stream",
     "text": [
      "['Alice', 'Charlie']\n"
     ]
    }
   ],
   "source": [
    "# filtering names by length\n",
    "\n",
    "names = [\"John\", \"Alice\", \"Bob\", \"Charlie\", \"Dave\"]\n",
    "long_names = list(filter(lambda name: len(name) > 4, names))\n",
    "print(long_names)"
   ]
  },
  {
   "cell_type": "markdown",
   "id": "17f2a976-bbad-4f3c-b8df-47a51858b7fe",
   "metadata": {},
   "source": [
    "#### 'Functools' Module"
   ]
  },
  {
   "cell_type": "code",
   "execution_count": 16,
   "id": "481049c9-036f-4f5b-a6fa-a36e78200e03",
   "metadata": {},
   "outputs": [
    {
     "name": "stdout",
     "output_type": "stream",
     "text": [
      "4\n",
      "8\n"
     ]
    }
   ],
   "source": [
    "from functools import partial\n",
    "\n",
    "# partial() allows you to create a new function with some default arguments.\n",
    "\n",
    "def power(base, exponent):\n",
    "    return base ** exponent\n",
    "\n",
    "# create a square function\n",
    "square = partial(power, exponent = 2)\n",
    "cube = partial(power, exponent = 3)\n",
    "\n",
    "print(square(2))\n",
    "print(cube(2))"
   ]
  },
  {
   "cell_type": "markdown",
   "id": "6e3ac772-cbbd-417e-9fcf-11e9aff02e89",
   "metadata": {},
   "source": [
    "#### reduce() Functions\n",
    "-> The reduce() function reduces an iterable into a single value by applying a function cumulatively."
   ]
  },
  {
   "cell_type": "code",
   "execution_count": 14,
   "id": "d1c7c502-a398-447f-adfd-7d1573168a29",
   "metadata": {},
   "outputs": [
    {
     "name": "stdout",
     "output_type": "stream",
     "text": [
      "15\n"
     ]
    }
   ],
   "source": [
    "from functools import reduce\n",
    "\n",
    "# summing a list of numbers\n",
    "\n",
    "numbers = [1,2,3,4,5]\n",
    "total_sum = reduce(lambda x, y:x + y, numbers)\n",
    "print(total_sum)"
   ]
  },
  {
   "cell_type": "code",
   "execution_count": 15,
   "id": "70c0eb9b-a657-472d-86da-47ca18522418",
   "metadata": {},
   "outputs": [
    {
     "name": "stdout",
     "output_type": "stream",
     "text": [
      "9\n"
     ]
    }
   ],
   "source": [
    "# finding the maximum in a list\n",
    "\n",
    "numbers = [3, 1, 4, 1, 5, 9, 2, 6, 5]\n",
    "max_value = reduce(lambda a,b: a if a > b else b, numbers)\n",
    "print(max_value)"
   ]
  },
  {
   "cell_type": "code",
   "execution_count": 18,
   "id": "c9371246-2dd1-4366-905d-c7e127094707",
   "metadata": {},
   "outputs": [
    {
     "name": "stdout",
     "output_type": "stream",
     "text": [
      "16\n",
      "16\n"
     ]
    }
   ],
   "source": [
    "from functools import lru_cache\n",
    "import time\n",
    "\n",
    "# Caching speeds up functions by storing previous results.\n",
    "\n",
    "@lru_cache(maxsize=5)\n",
    "def slow_func(n):\n",
    "    time.sleep(2)\n",
    "    return n*n\n",
    "\n",
    "print(slow_func(4))  # takes 2 seconds\n",
    "print(slow_func(4))  # instantaneous (cached)"
   ]
  },
  {
   "cell_type": "markdown",
   "id": "3a72e26f-5340-41fc-98b5-5f2fb9de6c41",
   "metadata": {},
   "source": [
    "#### Functional Pipeline\n",
    "-> Using map(), filter(), reduce() together."
   ]
  },
  {
   "cell_type": "code",
   "execution_count": 20,
   "id": "1a99a560-c6ef-4129-89cc-4903dfa4f859",
   "metadata": {},
   "outputs": [
    {
     "name": "stdout",
     "output_type": "stream",
     "text": [
      "220\n"
     ]
    }
   ],
   "source": [
    "from functools import reduce\n",
    "\n",
    "numbers = [1, 2, 3, 4, 5, 6, 7, 8, 9, 10]\n",
    "\n",
    "# filter even numbers\n",
    "even_no = list(filter(lambda x: x % 2 == 0, numbers))\n",
    "\n",
    "# square the filtered numbers\n",
    "squared_no = list(map(lambda x: x **2, even_no))\n",
    "\n",
    "# sum up the squared no\n",
    "sum_of_squares = reduce(lambda x, y: x + y, squared_no)\n",
    "\n",
    "print(sum_of_squares)"
   ]
  },
  {
   "cell_type": "code",
   "execution_count": null,
   "id": "65c3ebc0-1782-48e0-8b1c-b45337fdeea8",
   "metadata": {},
   "outputs": [],
   "source": []
  }
 ],
 "metadata": {
  "kernelspec": {
   "display_name": "Python 3 (ipykernel)",
   "language": "python",
   "name": "python3"
  },
  "language_info": {
   "codemirror_mode": {
    "name": "ipython",
    "version": 3
   },
   "file_extension": ".py",
   "mimetype": "text/x-python",
   "name": "python",
   "nbconvert_exporter": "python",
   "pygments_lexer": "ipython3",
   "version": "3.8.20"
  }
 },
 "nbformat": 4,
 "nbformat_minor": 5
}
