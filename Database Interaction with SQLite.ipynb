{
 "cells": [
  {
   "cell_type": "code",
   "execution_count": 1,
   "id": "fbe50c23-3189-473d-91d8-71d138ef55e9",
   "metadata": {},
   "outputs": [],
   "source": [
    "import sqlite3"
   ]
  },
  {
   "cell_type": "markdown",
   "id": "dadbc2ba-39c3-443b-9a8b-06aef469fb71",
   "metadata": {},
   "source": [
    "#### Creating a table"
   ]
  },
  {
   "cell_type": "code",
   "execution_count": 2,
   "id": "5b3e14f8-e541-4810-96ab-2b931d291e2e",
   "metadata": {},
   "outputs": [
    {
     "name": "stdout",
     "output_type": "stream",
     "text": [
      "Database and table recreated successfully!\n"
     ]
    }
   ],
   "source": [
    "import sqlite3\n",
    "\n",
    "conn = sqlite3.connect(\"users2.db\")\n",
    "conn.text_factory = lambda x: x.decode(\"utf-8\", \"ignore\")\n",
    "cursor = conn.cursor()\n",
    "\n",
    "cursor.execute(\"\"\"\n",
    "CREATE TABLE users (\n",
    "    id INTEGER PRIMARY KEY AUTOINCREMENT,\n",
    "    name TEXT NOT NULL,\n",
    "    email TEXT UNIQUE NOT NULL,\n",
    "    age INTEGER CHECK (age > 0),\n",
    "    created_at TIMESTAMP DEFAULT CURRENT_TIMESTAMP\n",
    ")\n",
    "\"\"\")\n",
    "\n",
    "conn.commit()\n",
    "conn.close()\n",
    "\n",
    "print(\"Database and table recreated successfully!\")\n"
   ]
  },
  {
   "cell_type": "markdown",
   "id": "1b2ad257-a3e2-4721-90af-6b9b45f58d95",
   "metadata": {},
   "source": [
    "#### Inserting Data into the Database"
   ]
  },
  {
   "cell_type": "code",
   "execution_count": 3,
   "id": "9c35eaa9-a0e0-4da7-bee1-9781b670768f",
   "metadata": {},
   "outputs": [
    {
     "name": "stdout",
     "output_type": "stream",
     "text": [
      "User inserted successfully!\n"
     ]
    }
   ],
   "source": [
    "def insert_user(name, email, age):\n",
    "    try:\n",
    "        conn = sqlite3.connect(\"users2.db\")\n",
    "        cursor = conn.cursor()\n",
    "\n",
    "        cursor.execute(\"INSERT INTO users (name, email, age) VALUES (?, ?, ?)\", (name, email, age))   # ? -> prevents Sql injection attacks\n",
    "\n",
    "        conn.commit()\n",
    "        print(\"User inserted successfully!\")\n",
    "\n",
    "    except sqlite3.IntegrityError as e:\n",
    "        print(\"error:\", e)\n",
    "\n",
    "    finally:\n",
    "        conn.close()\n",
    "\n",
    "insert_user(\"Sunny\", \"sunny@gmail.com\", 23)"
   ]
  },
  {
   "cell_type": "markdown",
   "id": "38458b4e-fb45-4b5c-ad48-ff636e19a2e1",
   "metadata": {},
   "source": [
    "#### Retrieving Data (SELECT Queries)"
   ]
  },
  {
   "cell_type": "code",
   "execution_count": 4,
   "id": "e50fcc74-649f-42e2-a2fe-fc8ae6f7f566",
   "metadata": {},
   "outputs": [
    {
     "name": "stdout",
     "output_type": "stream",
     "text": [
      "(1, 'Sunny', 'sunny@gmail.com', 23, '2025-02-22 11:39:14')\n"
     ]
    }
   ],
   "source": [
    "def fetch_user():\n",
    "    conn = sqlite3.connect(\"users2.db\")\n",
    "    cursor = conn.cursor()\n",
    "\n",
    "    cursor.execute(\"SELECT * FROM users\")\n",
    "    users = cursor.fetchall() \n",
    "\n",
    "    for user in users:\n",
    "        print(user)\n",
    "\n",
    "    conn.close()\n",
    "\n",
    "fetch_user()"
   ]
  },
  {
   "cell_type": "markdown",
   "id": "c084c8a3-d164-44e5-b76d-073f7ec42f29",
   "metadata": {},
   "source": [
    "#### Updating a Record"
   ]
  },
  {
   "cell_type": "code",
   "execution_count": 5,
   "id": "2dfc14ff-7e7d-47c4-aadb-768dcc4dc8c9",
   "metadata": {},
   "outputs": [
    {
     "name": "stdout",
     "output_type": "stream",
     "text": [
      "User updated successfully!\n",
      "(1, 'Sunny', 'sunny@gmail.com', 24, '2025-02-22 11:39:14')\n"
     ]
    }
   ],
   "source": [
    "def update_user_age(email, new_age):\n",
    "    conn = sqlite3.connect(\"users2.db\")\n",
    "    cursor = conn.cursor()\n",
    "\n",
    "    cursor.execute(\"UPDATE users SET age = ? WHERE email = ?\", (new_age, email))\n",
    "\n",
    "    conn.commit()\n",
    "    print(\"User updated successfully!\")\n",
    "    conn.close()\n",
    "\n",
    "update_user_age(\"sunny@gmail.com\", 24)\n",
    "fetch_user()"
   ]
  },
  {
   "cell_type": "markdown",
   "id": "2a832ce7-69a3-40dc-b058-88c4383034a2",
   "metadata": {},
   "source": [
    "#### Deleting a Record"
   ]
  },
  {
   "cell_type": "code",
   "execution_count": 9,
   "id": "02964975-6f03-45a3-99ce-64c33957bc59",
   "metadata": {},
   "outputs": [
    {
     "name": "stdout",
     "output_type": "stream",
     "text": [
      "User deleted successfully!\n"
     ]
    }
   ],
   "source": [
    "def delete_user(email):\n",
    "    conn = sqlite3.connect(\"users2.db\")\n",
    "    cursor = conn.cursor()\n",
    "\n",
    "    cursor.execute(\"DELETE FROM users WHERE email = ?\", (email,))\n",
    "    \n",
    "    conn.commit()\n",
    "    print(\"User deleted successfully!\")\n",
    "    conn.close()\n",
    "\n",
    "delete_user(\"sunny@gmail.com\")"
   ]
  },
  {
   "cell_type": "code",
   "execution_count": 10,
   "id": "b6ccb6c7-ce96-4860-85ba-73e977df699f",
   "metadata": {},
   "outputs": [],
   "source": [
    "fetch_user()"
   ]
  },
  {
   "cell_type": "markdown",
   "id": "0a0c3282-dacb-4db7-a00e-e4498f58e294",
   "metadata": {},
   "source": [
    "#### Using Transactions for Safer Database Operations"
   ]
  },
  {
   "cell_type": "code",
   "execution_count": 17,
   "id": "2223ddd9-700a-4e06-a31b-4633f12b6392",
   "metadata": {},
   "outputs": [
    {
     "name": "stdout",
     "output_type": "stream",
     "text": [
      "Transaction rolled back due to error: no such table: users\n"
     ]
    }
   ],
   "source": [
    "def transaction_example():\n",
    "    conn = sqlite3.connect(\"users3.db\")\n",
    "    cursor = conn.cursor()\n",
    "\n",
    "    try:\n",
    "        cursor.execute(\"BEGIN TRANSACTION\")\n",
    "\n",
    "        cursor.execute(\"INSERT INTO users (name, email, age) VALUES (?, ?, ?)\", \n",
    "                       (\"Alice\", \"alice@example.com\", 30))\n",
    "        cursor.execute(\"INSERT INTO users (name, email, age) VALUES (?, ?, ?)\", \n",
    "                       (\"Bob\", \"bob@example.com\", 28))\n",
    "\n",
    "        conn.commit()  # Save all changes\n",
    "        print(\"Transaction committed successfully!\")\n",
    "\n",
    "    except Exception as e:\n",
    "        conn.rollback()  # Undo changes if error occurs\n",
    "        print(\"Transaction rolled back due to error:\", e)\n",
    "\n",
    "    finally:\n",
    "        conn.close()\n",
    "\n",
    "transaction_example()"
   ]
  },
  {
   "cell_type": "code",
   "execution_count": 18,
   "id": "c0aef3ae-c40c-47d7-be51-b1d583008937",
   "metadata": {},
   "outputs": [],
   "source": [
    "from sqlalchemy import create_engine, Column, Integer, String\n",
    "from sqlalchemy.orm  import declarative_base, sessionmaker"
   ]
  },
  {
   "cell_type": "code",
   "execution_count": 19,
   "id": "25bdc6dc-19c8-4cbd-a2d7-272e188b71e2",
   "metadata": {},
   "outputs": [],
   "source": [
    "Base = declarative_base()"
   ]
  },
  {
   "cell_type": "code",
   "execution_count": 20,
   "id": "c77f3def-8fb9-478e-8489-64dd9ae36163",
   "metadata": {},
   "outputs": [
    {
     "name": "stdout",
     "output_type": "stream",
     "text": [
      "Database and table created using SQLAlchemy!\n"
     ]
    }
   ],
   "source": [
    "class User(Base):\n",
    "    __tablename__ = \"users3\"\n",
    "\n",
    "    id = Column(Integer, primary_key = True, autoincrement  = True)\n",
    "    name = Column(String, nullable = False)\n",
    "    email = Column(String, unique = True, nullable = False)\n",
    "    age = Column(Integer, nullable=False)\n",
    "\n",
    "\n",
    "# create database engine\n",
    "engine = create_engine(\"sqlite:///users3.db\")\n",
    "Base.metadata.create_all(engine)\n",
    "\n",
    "print(\"Database and table created using SQLAlchemy!\")"
   ]
  },
  {
   "cell_type": "markdown",
   "id": "b1ac7cfc-3bf2-4b8a-be61-112ee377b310",
   "metadata": {},
   "source": [
    "#### User Management System"
   ]
  },
  {
   "cell_type": "code",
   "execution_count": 22,
   "id": "b2fc71f2-91a4-46b8-9336-4f90cf04f4be",
   "metadata": {},
   "outputs": [
    {
     "name": "stdout",
     "output_type": "stream",
     "text": [
      "\n",
      "User Management System\n",
      "1. Add User\n",
      "2. View Users\n",
      "3. Update User Age\n",
      "4. Delete User\n",
      "5. Exit\n"
     ]
    },
    {
     "name": "stdin",
     "output_type": "stream",
     "text": [
      "Enter choice:  1\n",
      "Enter name:  sunny\n",
      "Enter email:  sunny.com\n",
      "Enter age:  23\n"
     ]
    },
    {
     "name": "stdout",
     "output_type": "stream",
     "text": [
      "User inserted successfully!\n",
      "\n",
      "User Management System\n",
      "1. Add User\n",
      "2. View Users\n",
      "3. Update User Age\n",
      "4. Delete User\n",
      "5. Exit\n"
     ]
    },
    {
     "name": "stdin",
     "output_type": "stream",
     "text": [
      "Enter choice:  2\n"
     ]
    },
    {
     "name": "stdout",
     "output_type": "stream",
     "text": [
      "(2, 'sunny', 'sunny@gmail.com', 23, '2025-02-22 11:51:08')\n",
      "(3, 'sunny', 'sunny.com', 23, '2025-02-22 11:52:00')\n",
      "\n",
      "User Management System\n",
      "1. Add User\n",
      "2. View Users\n",
      "3. Update User Age\n",
      "4. Delete User\n",
      "5. Exit\n"
     ]
    },
    {
     "name": "stdin",
     "output_type": "stream",
     "text": [
      "Enter choice:  4\n",
      "Enter user email to delete:  sunny.com\n"
     ]
    },
    {
     "name": "stdout",
     "output_type": "stream",
     "text": [
      "User deleted successfully!\n",
      "\n",
      "User Management System\n",
      "1. Add User\n",
      "2. View Users\n",
      "3. Update User Age\n",
      "4. Delete User\n",
      "5. Exit\n"
     ]
    },
    {
     "name": "stdin",
     "output_type": "stream",
     "text": [
      "Enter choice:  2\n"
     ]
    },
    {
     "name": "stdout",
     "output_type": "stream",
     "text": [
      "(2, 'sunny', 'sunny@gmail.com', 23, '2025-02-22 11:51:08')\n",
      "\n",
      "User Management System\n",
      "1. Add User\n",
      "2. View Users\n",
      "3. Update User Age\n",
      "4. Delete User\n",
      "5. Exit\n"
     ]
    },
    {
     "name": "stdin",
     "output_type": "stream",
     "text": [
      "Enter choice:  5\n"
     ]
    },
    {
     "name": "stdout",
     "output_type": "stream",
     "text": [
      "Exiting program.\n"
     ]
    }
   ],
   "source": [
    "\n",
    "def menu():\n",
    "    print(\"\\nUser Management System\")\n",
    "    print(\"1. Add User\")\n",
    "    print(\"2. View Users\")\n",
    "    print(\"3. Update User Age\")\n",
    "    print(\"4. Delete User\")\n",
    "    print(\"5. Exit\")\n",
    "\n",
    "def main():\n",
    "    while True:\n",
    "        menu()\n",
    "        choice = input(\"Enter choice: \")\n",
    "\n",
    "        if choice == \"1\":\n",
    "            name = input(\"Enter name: \")\n",
    "            email = input(\"Enter email: \")\n",
    "            age = int(input(\"Enter age: \"))\n",
    "            insert_user(name, email, age)\n",
    "\n",
    "        elif choice == \"2\":\n",
    "            fetch_user()\n",
    "\n",
    "        elif choice == \"3\":\n",
    "            email = input(\"Enter user email to update: \")\n",
    "            new_age = int(input(\"Enter new age: \"))\n",
    "            update_user_age(email, new_age)\n",
    "\n",
    "        elif choice == \"4\":\n",
    "            email = input(\"Enter user email to delete: \")\n",
    "            delete_user(email)\n",
    "\n",
    "        elif choice == \"5\":\n",
    "            print(\"Exiting program.\")\n",
    "            break\n",
    "\n",
    "        else:\n",
    "            print(\"Invalid choice. Try again.\")\n",
    "\n",
    "main()\n"
   ]
  },
  {
   "cell_type": "code",
   "execution_count": null,
   "id": "9539e846-1768-4c4a-896c-9a4975f6884b",
   "metadata": {},
   "outputs": [],
   "source": []
  }
 ],
 "metadata": {
  "kernelspec": {
   "display_name": "Python 3 (ipykernel)",
   "language": "python",
   "name": "python3"
  },
  "language_info": {
   "codemirror_mode": {
    "name": "ipython",
    "version": 3
   },
   "file_extension": ".py",
   "mimetype": "text/x-python",
   "name": "python",
   "nbconvert_exporter": "python",
   "pygments_lexer": "ipython3",
   "version": "3.8.20"
  }
 },
 "nbformat": 4,
 "nbformat_minor": 5
}
