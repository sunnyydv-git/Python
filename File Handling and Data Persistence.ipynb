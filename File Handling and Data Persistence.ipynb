{
 "cells": [
  {
   "cell_type": "markdown",
   "id": "fa4a1a21-47cc-45a6-b0c0-1dc922fef931",
   "metadata": {},
   "source": [
    "#### Reading files"
   ]
  },
  {
   "cell_type": "code",
   "execution_count": 4,
   "id": "b1d375b1-0090-484c-8705-c23d24dddeee",
   "metadata": {},
   "outputs": [
    {
     "name": "stdout",
     "output_type": "stream",
     "text": [
      "this is a dummy file\n",
      "feel free to write anything you like.\n",
      "this is a dummy file\n",
      "feel free to write anything you like.\n",
      "this is a\n"
     ]
    }
   ],
   "source": [
    "# Reading an entire file\n",
    "\n",
    "with open(\"dummy.txt\", \"r\") as file:\n",
    "    content = file.read()\n",
    "    print(content)\n",
    "\n",
    "# reading line by line\n",
    "\n",
    "with open(\"dummy.txt\", \"r\") as file:\n",
    "    for line in file:\n",
    "        print(line.strip())\n",
    "\n",
    "# reading first N bytes\n",
    "\n",
    "with open(\"dummy.txt\", \"r\") as file:\n",
    "    content = file.read(9)\n",
    "    print(content)"
   ]
  },
  {
   "cell_type": "markdown",
   "id": "fb7eaf6b-e60e-4117-9b2b-5fde62780d6f",
   "metadata": {},
   "source": [
    "#### Writing to a file"
   ]
  },
  {
   "cell_type": "code",
   "execution_count": 8,
   "id": "64a4bb62-83ab-4787-bb86-432c37c772f2",
   "metadata": {},
   "outputs": [],
   "source": [
    "# writing to a new file (overwrites if exists)\n",
    "with open(\"output.txt\", \"w\") as file:\n",
    "    file.write(\"Hello, Sunny!\\n\")\n",
    "    file.write(\"This is a new file.\\n\")\n",
    "\n",
    "# appending to an existing file\n",
    "with open(\"output.txt\", \"a\") as file:\n",
    "    file.write(\"Appending a new line!\\n\")"
   ]
  },
  {
   "cell_type": "markdown",
   "id": "3252d07c-52ca-4d7d-ad48-e6abdf681a54",
   "metadata": {},
   "source": [
    "#### Working with JSON File\n",
    "• JSON is a common format for data storage"
   ]
  },
  {
   "cell_type": "code",
   "execution_count": 10,
   "id": "65673513-12f7-40f8-a848-7174c0afe83a",
   "metadata": {},
   "outputs": [
    {
     "name": "stdout",
     "output_type": "stream",
     "text": [
      "Data Saved to JSON File\n"
     ]
    }
   ],
   "source": [
    "import json\n",
    "\n",
    "data = {\n",
    "    \"name\": \"Sunny\", \n",
    "    \"age\" : 22, \n",
    "    \"skills\" : [\"Python\", \"Machine Learning\", \"NLP\", \"AI\"]\n",
    "}\n",
    "\n",
    "with open(\"data.json\", \"w\") as json_file:\n",
    "    json.dump(data, json_file, indent=4)\n",
    "\n",
    "print(\"Data Saved to JSON File\")"
   ]
  },
  {
   "cell_type": "code",
   "execution_count": 11,
   "id": "483202ac-a614-4076-a543-283506e6a597",
   "metadata": {},
   "outputs": [
    {
     "name": "stdout",
     "output_type": "stream",
     "text": [
      "{'name': 'Sunny', 'age': 22, 'skills': ['Python', 'Machine Learning', 'NLP', 'AI']}\n"
     ]
    }
   ],
   "source": [
    "# Reading JSON Files\n",
    "\n",
    "with open(\"data.json\", \"r\") as json_file:\n",
    "    loaded_data = json.load(json_file)\n",
    "    print(loaded_data)"
   ]
  },
  {
   "cell_type": "markdown",
   "id": "fd299adb-dd52-4cd2-bf49-9fdc305c3b26",
   "metadata": {},
   "source": [
    "#### Working with CSV Files\n",
    "• CSV (Comma-Separated Values) is used for storing tabular data."
   ]
  },
  {
   "cell_type": "code",
   "execution_count": 12,
   "id": "5ddc89ab-85f5-4b41-b18d-0a36be488bb6",
   "metadata": {},
   "outputs": [],
   "source": [
    "import csv\n",
    "\n",
    "data = [\n",
    "    [\"Name\", \"Age\", \"Profession\"],\n",
    "    [\"X\", 22, \"AI Engineer\"],\n",
    "    [\"Y\", 24, \"Data Scientist\"]\n",
    "]\n",
    "\n",
    "with open(\"people.csv\", \"w\", newline = \"\") as file:\n",
    "    writer = csv.writer(file)\n",
    "    writer.writerows(data)"
   ]
  },
  {
   "cell_type": "code",
   "execution_count": 13,
   "id": "aeb02146-5a13-4580-9411-796126af779b",
   "metadata": {},
   "outputs": [
    {
     "name": "stdout",
     "output_type": "stream",
     "text": [
      "['Name', 'Age', 'Profession']\n",
      "['X', '22', 'AI Engineer']\n",
      "['Y', '24', 'Data Scientist']\n"
     ]
    }
   ],
   "source": [
    "# reading a CSV File\n",
    "with open(\"people.csv\", \"r\") as file:\n",
    "    reader = csv.reader(file)\n",
    "    for row in reader:\n",
    "        print(row)"
   ]
  },
  {
   "cell_type": "markdown",
   "id": "3449af61-1a0c-4753-afae-ca2d77cdb700",
   "metadata": {},
   "source": [
    "#### Exception Handling in File Operations"
   ]
  },
  {
   "cell_type": "code",
   "execution_count": 14,
   "id": "327a3bdc-817c-4a4e-bc13-e2e6a8228c56",
   "metadata": {},
   "outputs": [
    {
     "name": "stdout",
     "output_type": "stream",
     "text": [
      "Error: The file does not exist!\n"
     ]
    }
   ],
   "source": [
    "try:\n",
    "    with open(\"non_exist.txt\", \"r\") as file:\n",
    "        content = file.read()\n",
    "except FileNotFoundError:\n",
    "    print(\"Error: The file does not exist!\")\n",
    "except IOError:\n",
    "    print(\"Error: Cannot read the file!\")"
   ]
  },
  {
   "cell_type": "code",
   "execution_count": null,
   "id": "dbe7f642-7989-4290-8a14-696c22922886",
   "metadata": {},
   "outputs": [],
   "source": []
  }
 ],
 "metadata": {
  "kernelspec": {
   "display_name": "Python 3 (ipykernel)",
   "language": "python",
   "name": "python3"
  },
  "language_info": {
   "codemirror_mode": {
    "name": "ipython",
    "version": 3
   },
   "file_extension": ".py",
   "mimetype": "text/x-python",
   "name": "python",
   "nbconvert_exporter": "python",
   "pygments_lexer": "ipython3",
   "version": "3.8.20"
  }
 },
 "nbformat": 4,
 "nbformat_minor": 5
}
