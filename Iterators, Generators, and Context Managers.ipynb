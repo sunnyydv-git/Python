{
 "cells": [
  {
   "cell_type": "markdown",
   "id": "8d2c6dbf-a212-4127-bc86-8d205f30e128",
   "metadata": {},
   "source": [
    "### Iterator\n",
    "• An iterator is an object that implements the __iter__() and __next__() methods. \n",
    "\n",
    "• The __iter__() method returns the iterator object itself.\n",
    "\n",
    "• The __next__() method returns the next item in the sequence, raising StopIteration when no more items are available."
   ]
  },
  {
   "cell_type": "code",
   "execution_count": 2,
   "id": "1aff9def-a8b3-4bf7-a801-66ff890f97d0",
   "metadata": {},
   "outputs": [
    {
     "name": "stdout",
     "output_type": "stream",
     "text": [
      "1\n",
      "2\n",
      "3\n",
      "4\n",
      "5\n",
      "6\n",
      "7\n",
      "8\n",
      "9\n"
     ]
    }
   ],
   "source": [
    "class Counter:\n",
    "    \"\"\"An iterator that counts from a start value to an end value.\"\"\"\n",
    "\n",
    "    def __init__(self, start, end):\n",
    "        self.current = start\n",
    "        self.end = end\n",
    "\n",
    "    def __iter__(self):v\n",
    "        return self     # the iterator object itself\n",
    "\n",
    "    def __next__(self):\n",
    "        if self.current > self.end:\n",
    "            raise StopIteration  # stop when limit is reached\n",
    "\n",
    "        value = self.current\n",
    "        self.current += 1\n",
    "        return value\n",
    "\n",
    "# using custom iterator\n",
    "counter = Counter(1, 9)\n",
    "for num in counter:\n",
    "    print(num)"
   ]
  },
  {
   "cell_type": "markdown",
   "id": "45edc660-63ee-4186-8f2d-df39b82127d5",
   "metadata": {},
   "source": [
    "### Generators\n",
    "• Generators are functions that yield values lazily using the 'yield' keyword.\n",
    "\n",
    "• They maintain their state between function calls and do not store all values in memory."
   ]
  },
  {
   "cell_type": "code",
   "execution_count": 3,
   "id": "c38a825c-9d75-44c5-8b94-84f54b778b25",
   "metadata": {},
   "outputs": [
    {
     "name": "stdout",
     "output_type": "stream",
     "text": [
      "1\n",
      "2\n"
     ]
    }
   ],
   "source": [
    "def simple_generator():\n",
    "    yield 1\n",
    "    yield 2\n",
    "    yield 3\n",
    "\n",
    "gen = simple_generator()\n",
    "print(next(gen))\n",
    "print(next(gen))"
   ]
  },
  {
   "cell_type": "code",
   "execution_count": 4,
   "id": "4fb01cbf-eea4-4c46-a4cc-8b2ffb8f9333",
   "metadata": {},
   "outputs": [
    {
     "name": "stdout",
     "output_type": "stream",
     "text": [
      "0 1 1 2 3 5 8 13 21 34 "
     ]
    }
   ],
   "source": [
    "# Fibonacci generator\n",
    "def fibonacci(limit):\n",
    "    a, b = 0, 1\n",
    "    for _ in range(limit):\n",
    "        yield a \n",
    "        a, b = b, a + b\n",
    "\n",
    "for num in fibonacci(10):\n",
    "    print(num, end = \" \")"
   ]
  },
  {
   "cell_type": "code",
   "execution_count": 5,
   "id": "df7f02d4-9146-4dd9-87ff-ab7e164f567b",
   "metadata": {},
   "outputs": [
    {
     "name": "stdout",
     "output_type": "stream",
     "text": [
      "1\n",
      "2\n",
      "3\n",
      "4\n",
      "5\n"
     ]
    }
   ],
   "source": [
    "def infinite_counter():\n",
    "    \"\"\"An infinite generator that keeps counting from 1.\"\"\"\n",
    "    num = 1\n",
    "    while True:\n",
    "        yield num\n",
    "        num += 1\n",
    "\n",
    "# Using the infinite generator\n",
    "counter = infinite_counter()\n",
    "for _ in range(5):\n",
    "    print(next(counter)) \n"
   ]
  },
  {
   "cell_type": "code",
   "execution_count": 6,
   "id": "4948b40c-3116-446a-b374-f6eb2176d5f0",
   "metadata": {},
   "outputs": [
    {
     "name": "stdout",
     "output_type": "stream",
     "text": [
      "0\n",
      "1\n",
      "[4, 9, 16, 25, 36, 49, 64, 81]\n"
     ]
    }
   ],
   "source": [
    "# generator expression for squares\n",
    "\n",
    "squares = (x**2 for x in range(10))\n",
    "print(next(squares))  \n",
    "print(next(squares))  \n",
    "print(list(squares))  \n"
   ]
  },
  {
   "cell_type": "markdown",
   "id": "a8a1967a-d878-4233-84ed-71b34f6b643d",
   "metadata": {},
   "source": [
    "### Context Managers\n",
    "• The \"with\" statement automatically closes resources after execution.\n",
    "\n",
    "• Context managers implement the __enter__() and __exit__() methods."
   ]
  },
  {
   "cell_type": "code",
   "execution_count": 7,
   "id": "90a7932a-eefb-4844-829b-4a836ec25fc1",
   "metadata": {},
   "outputs": [],
   "source": [
    "with open(\"example.txt\", \"w\") as file:\n",
    "    file.write(\"Hello, Context Manager!\")\n",
    "\n",
    "# No need to explicitly close the file; it's done automatically.\n"
   ]
  },
  {
   "cell_type": "code",
   "execution_count": 8,
   "id": "070751f8-f69a-44be-8ab4-064352e9e2d5",
   "metadata": {},
   "outputs": [],
   "source": [
    "class FileOpener:\n",
    "    \"\"\"A custom context manager for file handling.\"\"\"\n",
    "    \n",
    "    def __init__(self, filename, mode):\n",
    "        self.filename = filename\n",
    "        self.mode = mode\n",
    "\n",
    "    def __enter__(self):\n",
    "        self.file = open(self.filename, self.mode)\n",
    "        return self.file   # file object returned for usage\n",
    "\n",
    "    def __exit__(self, exc_type, exc_value, traceback):\n",
    "        self.file.close()\n",
    "        if exc_type:\n",
    "            print(f\"Exception occurred: {exc_value}\")\n",
    "        return True\n",
    "\n",
    "with FileOpener(\"custom.txt\", \"w\") as f:\n",
    "    f.write(\"Testing custom context manager.\")"
   ]
  },
  {
   "cell_type": "code",
   "execution_count": 9,
   "id": "70a5ab57-6c7b-42ce-8437-331103ba5aa6",
   "metadata": {},
   "outputs": [],
   "source": [
    "from contextlib import contextmanager\n",
    "\n",
    "@contextmanager\n",
    "def managed_file(filename, mode):\n",
    "    \"\"\"A generator based context manager.\"\"\"\n",
    "    try:\n",
    "        file = open(filename, mode)\n",
    "        yield file \n",
    "    finally:\n",
    "        file.close()\n",
    "\n",
    "with managed_file(\"managed.txt\", \"w\") as f:\n",
    "    f.write(\"using @contextmanager decorator.\")"
   ]
  },
  {
   "cell_type": "markdown",
   "id": "aac9a49b-31de-4e9b-896f-f01be904b4a0",
   "metadata": {},
   "source": [
    "### Combining Iterators, Generators, and Context Managers"
   ]
  },
  {
   "cell_type": "code",
   "execution_count": 12,
   "id": "e0c9fd09-8bf3-4434-b23f-fe346cda6606",
   "metadata": {},
   "outputs": [],
   "source": [
    "class LineFilter:\n",
    "    \"\"\"Iterator to filter lines containing a keyword.\"\"\"\n",
    "    \n",
    "    def __init__(self, iterable, keyword):\n",
    "        self.iterable = iterable\n",
    "        self.keyword = keyword\n",
    "    \n",
    "    def __iter__(self):\n",
    "        return (line for line in self.iterable if self.keyword in line)\n",
    "\n",
    "@contextmanager\n",
    "def open_large_file(filename):\n",
    "    \"\"\"Context manager for safely opening a large file.\"\"\"\n",
    "    try:\n",
    "        file = open(filename, \"r\")\n",
    "        yield file\n",
    "    finally:\n",
    "        file.close()\n",
    "\n",
    "def read_large_file(filename):\n",
    "    \"\"\"Generator to read a large file line by line.\"\"\"\n",
    "    with open_large_file(filename) as file:\n",
    "        for line in file:\n",
    "            yield line.strip()\n",
    "\n",
    "# Using the iterator, generator, and context manager together\n",
    "filtered_lines = LineFilter(read_large_file(\"managed.txt\"), \"error\")\n",
    "\n",
    "for line in filtered_lines:\n",
    "    print(line)  \n"
   ]
  },
  {
   "cell_type": "code",
   "execution_count": null,
   "id": "80946822-e9e3-4d59-aa0d-139e1a3d31c2",
   "metadata": {},
   "outputs": [],
   "source": []
  }
 ],
 "metadata": {
  "kernelspec": {
   "display_name": "Python 3 (ipykernel)",
   "language": "python",
   "name": "python3"
  },
  "language_info": {
   "codemirror_mode": {
    "name": "ipython",
    "version": 3
   },
   "file_extension": ".py",
   "mimetype": "text/x-python",
   "name": "python",
   "nbconvert_exporter": "python",
   "pygments_lexer": "ipython3",
   "version": "3.8.20"
  }
 },
 "nbformat": 4,
 "nbformat_minor": 5
}
