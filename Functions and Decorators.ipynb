{
 "cells": [
  {
   "cell_type": "markdown",
   "id": "0ac9dd4a-47a5-4ada-aaf0-3da6ec2b8f82",
   "metadata": {},
   "source": [
    "#### Functions"
   ]
  },
  {
   "cell_type": "markdown",
   "id": "d0ae9827-6dcf-4413-bbe3-b8f76bf08889",
   "metadata": {},
   "source": [
    "##### • Positional Arguments"
   ]
  },
  {
   "cell_type": "code",
   "execution_count": 1,
   "id": "81c8a938-9ba7-4d79-b26a-7b055ca1d23d",
   "metadata": {},
   "outputs": [
    {
     "name": "stdout",
     "output_type": "stream",
     "text": [
      "Hello sunny, you are 22 years old.\n"
     ]
    }
   ],
   "source": [
    "def greet(name, age):\n",
    "    print(f\"Hello {name}, you are {age} years old.\")\n",
    "\n",
    "greet(\"sunny\", 22)"
   ]
  },
  {
   "cell_type": "markdown",
   "id": "19594919-95b1-429c-b36f-023d1fd350cd",
   "metadata": {},
   "source": [
    "##### • Keyword Arguments"
   ]
  },
  {
   "cell_type": "code",
   "execution_count": 2,
   "id": "62ad8a81-bba6-42d0-ba17-95e527ede693",
   "metadata": {},
   "outputs": [
    {
     "name": "stdout",
     "output_type": "stream",
     "text": [
      "Hello sunny, you are 22 years old.\n"
     ]
    }
   ],
   "source": [
    "greet(age = 22, name = \"sunny\")"
   ]
  },
  {
   "cell_type": "markdown",
   "id": "f37501ac-764d-4468-b0ec-85d11191feca",
   "metadata": {},
   "source": [
    "##### • Default Arguments"
   ]
  },
  {
   "cell_type": "code",
   "execution_count": 3,
   "id": "cfa5fded-3260-4d68-94d5-54e0285c89fa",
   "metadata": {},
   "outputs": [
    {
     "name": "stdout",
     "output_type": "stream",
     "text": [
      "Hello Sunny, you are 22 years old.\n"
     ]
    }
   ],
   "source": [
    "def greet(name, age=22):\n",
    "    print(f\"Hello {name}, you are {age} years old.\")\n",
    "greet(\"Sunny\")  # Uses default age=18"
   ]
  },
  {
   "cell_type": "markdown",
   "id": "1d616dfb-d605-414e-a006-53f8658048e9",
   "metadata": {},
   "source": [
    "##### • Arbitrary Arguments\n",
    "• *args allows passing a variable number of positional arguments. \n",
    "\n",
    "• **kwargs allows passing a variable number of keyword arguments."
   ]
  },
  {
   "cell_type": "code",
   "execution_count": 4,
   "id": "bd7dc831-7574-4a03-ab09-be36134689a4",
   "metadata": {},
   "outputs": [
    {
     "name": "stdout",
     "output_type": "stream",
     "text": [
      "10\n",
      "name: sunny\n",
      "age: 22\n",
      "country: India\n"
     ]
    }
   ],
   "source": [
    "def add_numbers(*args):\n",
    "    return sum(args)\n",
    "print(add_numbers(1,2,3,4))\n",
    "\n",
    "def info(**kwargs):\n",
    "    for key, value in kwargs.items():\n",
    "        print(f\"{key}: {value}\")\n",
    "info(name = \"sunny\", age = 22, country = \"India\")"
   ]
  },
  {
   "cell_type": "markdown",
   "id": "562f3d67-73da-4dc0-b60c-f2add9650465",
   "metadata": {},
   "source": [
    "#### • Closure and Nested Functions"
   ]
  },
  {
   "cell_type": "code",
   "execution_count": 8,
   "id": "5663b3a2-2509-4e01-86a6-4efe301d468b",
   "metadata": {},
   "outputs": [
    {
     "name": "stdout",
     "output_type": "stream",
     "text": [
      "10\n"
     ]
    }
   ],
   "source": [
    "def make_multiplier(n):\n",
    "    def multiplier(x):\n",
    "        return x * n  # 'n' is remembered even after make_multiplier() is done\n",
    "    return multiplier\n",
    "\n",
    "double = make_multiplier(2)\n",
    "print(double(5))  # Output: 10\n"
   ]
  },
  {
   "cell_type": "markdown",
   "id": "4e2611da-5c32-49b2-94c2-fe3dfc34d3a1",
   "metadata": {},
   "source": [
    "#### • Decorators"
   ]
  },
  {
   "cell_type": "code",
   "execution_count": 9,
   "id": "bc227362-505d-4867-bcec-521ac1371183",
   "metadata": {},
   "outputs": [
    {
     "name": "stdout",
     "output_type": "stream",
     "text": [
      "Calling greet\n",
      "Hello, Sunny!\n"
     ]
    }
   ],
   "source": [
    "def decorator_function(original_function):\n",
    "    def wrapper_function(*args, **kwargs):\n",
    "        print(f\"Calling {original_function.__name__}\")\n",
    "        return original_function(*args, **kwargs)\n",
    "    return wrapper_function\n",
    "\n",
    "@decorator_function  # Equivalent to greet = decorator_function(greet)\n",
    "def greet(name):\n",
    "    print(f\"Hello, {name}!\")\n",
    "\n",
    "greet(\"Sunny\")\n"
   ]
  },
  {
   "cell_type": "code",
   "execution_count": 12,
   "id": "35188b42-3253-4e3f-901c-3202f685d679",
   "metadata": {},
   "outputs": [
    {
     "name": "stdout",
     "output_type": "stream",
     "text": [
      "Function finished\n",
      "slow_function took 2.0017 seconds to execute\n"
     ]
    }
   ],
   "source": [
    "import time\n",
    "\n",
    "def timing_decorator(func):\n",
    "    def wrapper(*args, **kwargs):\n",
    "        start_time = time.time()\n",
    "        result = func(*args, **kwargs)\n",
    "        end_time = time.time()\n",
    "        print(f\"{func.__name__} took {end_time - start_time:.4f} seconds to execute\")\n",
    "        return result\n",
    "    return wrapper\n",
    "\n",
    "@timing_decorator\n",
    "def slow_function():\n",
    "    time.sleep(2)\n",
    "    print(\"Function finished\")\n",
    "\n",
    "slow_function()"
   ]
  },
  {
   "cell_type": "markdown",
   "id": "73943a0e-d69c-4850-a948-436358ded1e3",
   "metadata": {},
   "source": [
    "#### • Using \"functools.wraps\" to Preserve Metadata"
   ]
  },
  {
   "cell_type": "code",
   "execution_count": 13,
   "id": "554b9f39-8c46-4bb2-ae84-f040b8c1a5a9",
   "metadata": {},
   "outputs": [
    {
     "name": "stdout",
     "output_type": "stream",
     "text": [
      "dummy_func\n",
      "this is a dummy function\n"
     ]
    }
   ],
   "source": [
    "from functools import wraps\n",
    "\n",
    "def decorator_func(func):\n",
    "    @wraps(func)   # wraps -> preserves the metadata.\n",
    "    def wrapper_func(*args, **kwargs):\n",
    "        print(f\"Calling {original_function.__name__}\")\n",
    "        return func(*args, **kwargs)\n",
    "    return wrapper_func\n",
    "\n",
    "@decorator_func\n",
    "def dummy_func():\n",
    "    \"\"\"this is a dummy function\"\"\"\n",
    "    print(\"dummy function running...\")\n",
    "\n",
    "print(dummy_func.__name__)  # Preserves original name\n",
    "print(dummy_func.__doc__)   # Preserves docstring"
   ]
  },
  {
   "cell_type": "markdown",
   "id": "2fe2f3c2-b384-4128-9f28-c06e1b383c78",
   "metadata": {},
   "source": [
    "#### •  Decorators with Arguments"
   ]
  },
  {
   "cell_type": "code",
   "execution_count": 14,
   "id": "0c360e04-b0bf-47a3-927f-5b779f96a6a8",
   "metadata": {},
   "outputs": [
    {
     "name": "stdout",
     "output_type": "stream",
     "text": [
      "hello!\n",
      "hello!\n",
      "hello!\n"
     ]
    }
   ],
   "source": [
    "def repeat(n):\n",
    "    def decorator(func):\n",
    "        @wraps(func)\n",
    "        def wrapper(*args, **kwargs):\n",
    "            for _ in range(n):\n",
    "                func(*args, **kwargs)\n",
    "        return wrapper\n",
    "    return decorator\n",
    "\n",
    "@repeat(3)\n",
    "def say_hello():\n",
    "    print(\"hello!\")\n",
    "\n",
    "say_hello()"
   ]
  },
  {
   "cell_type": "code",
   "execution_count": null,
   "id": "708cda8a-7c1d-4d2f-b288-7fcfd03d8f37",
   "metadata": {},
   "outputs": [],
   "source": []
  }
 ],
 "metadata": {
  "kernelspec": {
   "display_name": "Python 3 (ipykernel)",
   "language": "python",
   "name": "python3"
  },
  "language_info": {
   "codemirror_mode": {
    "name": "ipython",
    "version": 3
   },
   "file_extension": ".py",
   "mimetype": "text/x-python",
   "name": "python",
   "nbconvert_exporter": "python",
   "pygments_lexer": "ipython3",
   "version": "3.8.20"
  }
 },
 "nbformat": 4,
 "nbformat_minor": 5
}
